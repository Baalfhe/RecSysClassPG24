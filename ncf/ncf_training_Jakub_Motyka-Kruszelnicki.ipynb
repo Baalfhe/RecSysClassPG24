{
  "cells": [
    {
      "cell_type": "code",
      "execution_count": 38,
      "id": "74952bc1-9a7c-414a-b6ae-f7f1b5e1effa",
      "metadata": {
        "id": "74952bc1-9a7c-414a-b6ae-f7f1b5e1effa"
      },
      "outputs": [],
      "source": [
        "from urllib import request\n",
        "import pandas as pd\n",
        "import zipfile\n",
        "import numpy as np\n",
        "import torch\n",
        "import torch.nn as nn\n",
        "from torch.utils.data import Dataset, DataLoader\n",
        "from tqdm import tqdm_notebook\n",
        "import tqdm\n",
        "\n",
        "from torch.optim import SGD,Adam\n",
        "from torch.nn import MSELoss\n",
        "import torch.nn as nn\n",
        "import matplotlib.pyplot as plt"
      ]
    },
    {
      "cell_type": "code",
      "execution_count": 39,
      "id": "1d1e49f1-be2f-4fb1-b044-91b7fab071bc",
      "metadata": {
        "id": "1d1e49f1-be2f-4fb1-b044-91b7fab071bc"
      },
      "outputs": [],
      "source": [
        "DATASET_URL = 'http://files.grouplens.org/datasets/movielens/ml-100k.zip'\n",
        "DATASET_ARCHIVE = 'ml-100k.zip'\n",
        "\n",
        "request.urlretrieve(DATASET_URL, DATASET_ARCHIVE)\n",
        "with zipfile.ZipFile(DATASET_ARCHIVE) as archive:\n",
        "    archive.extractall()"
      ]
    },
    {
      "cell_type": "markdown",
      "id": "662ba9e6-54da-4376-b9da-67846defd1c5",
      "metadata": {
        "id": "662ba9e6-54da-4376-b9da-67846defd1c5"
      },
      "source": [
        "### Task 1\n",
        "\n",
        "1. Go over the NCF paper (https://arxiv.org/abs/1708.05031) to understand the architecture of the model\n",
        "2. Implement NCF class. In particular:  \n",
        "    a. implement __init__ to create the model achtecture  \n",
        "    b. initialisation is already implemented for you  \n",
        "    c. implement forward. Forward should take u_id and i_id and return the propability of consumption given u_id and i_id (what is the output layer?)\n",
        "    d. Test your forward by providing some random u_id and i_id"
      ]
    },
    {
      "cell_type": "code",
      "execution_count": 41,
      "id": "eb7af85a-336b-4424-aefd-22814eac48ac",
      "metadata": {
        "id": "eb7af85a-336b-4424-aefd-22814eac48ac"
      },
      "outputs": [],
      "source": [
        "class NeuMF(nn.Module):\n",
        "    def __init__(self, nb_users, nb_items,\n",
        "                 mf_dim, mlp_layer_sizes, dropout=0):\n",
        "\n",
        "        if mlp_layer_sizes[0] % 2 != 0:\n",
        "            raise RuntimeError('u dummy, mlp_layer_sizes[0] % 2 != 0')\n",
        "        super(NeuMF, self).__init__()\n",
        "        nb_mlp_layers = len(mlp_layer_sizes)\n",
        "        #YOUR TASK: ADD EMBEEDING LAYERS TO THE MODEL - be careful with sizes ~5 lines of code\n",
        "        self.mf_user_embed = nn.Embedding(nb_users, mf_dim)\n",
        "        self.mf_item_embed = nn.Embedding(nb_items, mf_dim)\n",
        "        self.mlp_user_embed = nn.Embedding(nb_users, mlp_layer_sizes[0] // 2)\n",
        "        self.mlp_item_embed = nn.Embedding(nb_items, mlp_layer_sizes[0] // 2)\n",
        "        self.dropout = dropout\n",
        "        #YOUR TASK: ADD MLPs and the final layer ~4-6 lines of code\n",
        "        self.mlp = nn.ModuleList()\n",
        "        for i in range(1, nb_mlp_layers):\n",
        "            self.mlp.extend([nn.Linear(mlp_layer_sizes[i - 1], mlp_layer_sizes[i])])\n",
        "        self.final = nn.Linear(mlp_layer_sizes[-1] + mf_dim, 1)\n",
        "        #YOUR TASK: Initialze weights ~4 lines of code - use glorot\n",
        "        self.mf_user_embed.weight.data.normal_(0., 0.01)\n",
        "        self.mf_item_embed.weight.data.normal_(0., 0.01)\n",
        "        self.mlp_user_embed.weight.data.normal_(0., 0.01)\n",
        "        self.mlp_item_embed.weight.data.normal_(0., 0.01)\n",
        "        def glorot_uniform(layer):\n",
        "            fan_in, fan_out = layer.in_features, layer.out_features\n",
        "            limit = np.sqrt(6. / (fan_in + fan_out))\n",
        "            layer.weight.data.uniform_(-limit, limit)\n",
        "\n",
        "        def lecunn_uniform(layer):\n",
        "            fan_in, fan_out = layer.in_features, layer.out_features  # noqa: F841, E501\n",
        "            limit = np.sqrt(3. / fan_in)\n",
        "            layer.weight.data.uniform_(-limit, limit)\n",
        "        for layer in self.mlp:\n",
        "            if type(layer) != nn.Linear:\n",
        "                continue\n",
        "            glorot_uniform(layer)\n",
        "        lecunn_uniform(self.final)\n",
        "\n",
        "    def forward(self, user, item, sigmoid=False):\n",
        "        #YOUR TASK: Implement model forward. ~15 lines of code\n",
        "        xmfu = self.mf_user_embed(user)\n",
        "        xmfi = self.mf_item_embed(item)\n",
        "        xmf = xmfu * xmfi\n",
        "\n",
        "        xmlpu = self.mlp_user_embed(user)\n",
        "        xmlpi = self.mlp_item_embed(item)\n",
        "        xmlp = torch.cat((xmlpu, xmlpi), dim=1)\n",
        "        for i, layer in enumerate(self.mlp):\n",
        "            xmlp = layer(xmlp)\n",
        "            xmlp = nn.functional.relu(xmlp)\n",
        "            if self.dropout != 0:\n",
        "                xmlp = nn.functional.dropout(xmlp, p=self.dropout, training=self.training)\n",
        "\n",
        "        output = torch.cat((xmf, xmlp), dim=1)\n",
        "        output = self.final(output)\n",
        "        if sigmoid:\n",
        "            output = torch.sigmoid(output)\n",
        "        return output"
      ]
    },
    {
      "cell_type": "markdown",
      "id": "7fb79876-648f-4ca7-8747-30a549a594c8",
      "metadata": {
        "id": "7fb79876-648f-4ca7-8747-30a549a594c8"
      },
      "source": [
        "### Task 2\n",
        "\n",
        "1. Implement ML100kDataset. In particular:  \n",
        "    a. implement all needed functions that overload PyTorch Dataset\n",
        "    b. Implement negaive sampling. This can be approximated negative sampling negative_samples=n means that if user A has m training points (positive) it will have n*m negive points"
      ]
    },
    {
      "cell_type": "code",
      "execution_count": 42,
      "id": "0c6b869a-f634-40fe-b1c8-c1438017a306",
      "metadata": {
        "id": "0c6b869a-f634-40fe-b1c8-c1438017a306"
      },
      "outputs": [],
      "source": [
        "class ML100kDataset(Dataset):\n",
        "    def __init__(self,file_name,negative_samples=1):\n",
        "        ratings_df=pd.read_csv(file_name, header=None, names=['user_id', 'item_id', 'rating', 'timestamp'],delim_whitespace=True)\n",
        "        max_item = np.max(ratings_df['item_id'])\n",
        "        ratings_df.drop(['rating','timestamp'],axis=1,inplace=True)\n",
        "        ratings = torch.from_numpy(ratings_df.values)\n",
        "        self.negative_samples = negative_samples\n",
        "        self.raw_dataset_length = len(ratings_df.index)\n",
        "        self.length_after_augmentation = self.raw_dataset_length * (self.negative_samples + 1)\n",
        "        #YOUR TASK: Implement negative sampling. ~7 lines of code. NOTE: the dataset does not have to be shuffled, but you can do this!\n",
        "        #Sample neg users\n",
        "        USER,ITEM=0,1\n",
        "        neg_users = ratings[:,USER].repeat(self.negative_samples)\n",
        "        self.users = torch.cat((ratings[:,USER], neg_users))\n",
        "        #sample neg items\n",
        "        neg_items = torch.empty_like(ratings[:,ITEM]).repeat(self.negative_samples).random_(0,max_item)\n",
        "        self.items = torch.cat((ratings[:,ITEM], neg_items))\n",
        "        #labels\n",
        "        neg_label = torch.zeros_like(ratings[:,ITEM], dtype=torch.float32).repeat(self.negative_samples)\n",
        "        self.labels = torch.cat((torch.ones_like(ratings[:,ITEM], dtype=torch.float32), neg_label))\n",
        "\n",
        "    def __len__(self):\n",
        "        return self.length_after_augmentation\n",
        "\n",
        "    def __getitem__(self,idx):\n",
        "        return self.users[idx],self.items[idx],self.labels[idx]"
      ]
    },
    {
      "cell_type": "markdown",
      "id": "2f688447-fa62-4aa4-a598-e132fd8918e2",
      "metadata": {
        "id": "2f688447-fa62-4aa4-a598-e132fd8918e2"
      },
      "source": [
        "### Task 3\n",
        "\n",
        "1. Implement training loop. In particular:  \n",
        "    a. Every epoch you make log average train loss and test/eval loss  \n",
        "    b. use different loss/optimiser/other HP. Use dependency injection to play with them.  \n",
        "    c. Find \"best\" HP during cross-validation.  \n",
        "    d. Check when model overfits with learning curves.  \n",
        "    e. What are the conclusions.  \n",
        "    f*. You can user HR@n from previous excersise to look for overfitting.  \n",
        "    g*. Check the influence of shuffling on your results"
      ]
    },
    {
      "cell_type": "code",
      "execution_count": 47,
      "id": "75100a8a-4c7a-475a-b71f-d0eefba047e9",
      "metadata": {
        "id": "75100a8a-4c7a-475a-b71f-d0eefba047e9",
        "outputId": "81944eb4-4588-4d56-fb21-624003e400e4",
        "colab": {
          "base_uri": "https://localhost:8080/"
        }
      },
      "outputs": [
        {
          "output_type": "stream",
          "name": "stdout",
          "text": [
            "Traininng 0\n"
          ]
        },
        {
          "output_type": "stream",
          "name": "stderr",
          "text": [
            "100%|██████████| 15/15 [00:04<00:00,  3.42it/s]\n"
          ]
        },
        {
          "output_type": "stream",
          "name": "stdout",
          "text": [
            "Traininng 1\n"
          ]
        },
        {
          "output_type": "stream",
          "name": "stderr",
          "text": [
            "100%|██████████| 15/15 [00:05<00:00,  2.57it/s]\n"
          ]
        },
        {
          "output_type": "stream",
          "name": "stdout",
          "text": [
            "Traininng 2\n"
          ]
        },
        {
          "output_type": "stream",
          "name": "stderr",
          "text": [
            "100%|██████████| 15/15 [00:04<00:00,  3.47it/s]\n"
          ]
        },
        {
          "output_type": "stream",
          "name": "stdout",
          "text": [
            "Traininng 3\n"
          ]
        },
        {
          "output_type": "stream",
          "name": "stderr",
          "text": [
            "100%|██████████| 15/15 [00:04<00:00,  3.21it/s]\n"
          ]
        },
        {
          "output_type": "stream",
          "name": "stdout",
          "text": [
            "Traininng 4\n"
          ]
        },
        {
          "output_type": "stream",
          "name": "stderr",
          "text": [
            "100%|██████████| 15/15 [00:04<00:00,  3.28it/s]\n"
          ]
        },
        {
          "output_type": "stream",
          "name": "stdout",
          "text": [
            "Traininng 5\n"
          ]
        },
        {
          "output_type": "stream",
          "name": "stderr",
          "text": [
            "100%|██████████| 15/15 [00:04<00:00,  3.36it/s]\n"
          ]
        },
        {
          "output_type": "stream",
          "name": "stdout",
          "text": [
            "Traininng 6\n"
          ]
        },
        {
          "output_type": "stream",
          "name": "stderr",
          "text": [
            "100%|██████████| 15/15 [00:04<00:00,  3.26it/s]\n"
          ]
        },
        {
          "output_type": "stream",
          "name": "stdout",
          "text": [
            "Traininng 7\n"
          ]
        },
        {
          "output_type": "stream",
          "name": "stderr",
          "text": [
            "100%|██████████| 15/15 [00:04<00:00,  3.39it/s]\n"
          ]
        },
        {
          "output_type": "stream",
          "name": "stdout",
          "text": [
            "Traininng 8\n"
          ]
        },
        {
          "output_type": "stream",
          "name": "stderr",
          "text": [
            "100%|██████████| 15/15 [00:05<00:00,  2.95it/s]\n"
          ]
        },
        {
          "output_type": "stream",
          "name": "stdout",
          "text": [
            "Traininng 9\n"
          ]
        },
        {
          "output_type": "stream",
          "name": "stderr",
          "text": [
            "100%|██████████| 15/15 [00:04<00:00,  3.41it/s]\n"
          ]
        }
      ],
      "source": [
        "#YOUR TASK: Implement entire training loop for the model with selection of HPs ~25+ lines of code\n",
        "users_num = 943 + 1\n",
        "movies_num = 1682 + 1\n",
        "\n",
        "ds_train = ML100kDataset('ml-100k/u1.base',2)\n",
        "ds_test = ML100kDataset('ml-100k/u1.test',2)\n",
        "# create a data loader for train and test sets\n",
        "train_dl = DataLoader(ds_train, batch_size=16*1024,shuffle=True)\n",
        "test_dl = DataLoader(ds_test, batch_size=16*1024, shuffle=False)\n",
        "model = NeuMF(users_num,movies_num,16,[128,64,32])\n",
        "criterion = nn.BCELoss()\n",
        "optimizer = Adam(model.parameters(), lr=0.001)\n",
        "test_loss = []\n",
        "train_loss = []\n",
        "for epoch in range(10):\n",
        "    model.train()\n",
        "    tr_loss=[]\n",
        "    print(\"Traininng \"+str(epoch))\n",
        "    for (u,i,l) in tqdm.tqdm(train_dl):\n",
        "        # clear the gradients\n",
        "        optimizer.zero_grad()\n",
        "        # compute the model output\n",
        "        yhat = model(u,i,sigmoid=True)\n",
        "        l = l.unsqueeze(1)\n",
        "        # calculate loss\n",
        "        loss = criterion(yhat, l)\n",
        "        tr_loss.append(loss.detach().numpy())\n",
        "        # credit assignment\n",
        "        loss.backward()\n",
        "        # update model weights\n",
        "        optimizer.step()\n",
        "    train_loss.append(np.mean(tr_loss))\n",
        "    model.eval()\n",
        "    predictions = []\n",
        "    with torch.no_grad():\n",
        "        t_loss=[]\n",
        "        for i, (u,i,l) in enumerate(test_dl):\n",
        "            yhat = model(u, i, sigmoid=True)\n",
        "            predictions.append(yhat)\n",
        "            l = l.unsqueeze(1)\n",
        "            tl = criterion(yhat, l)\n",
        "            t_loss.append(tl)\n",
        "        test_loss.append(np.mean(t_loss))"
      ]
    },
    {
      "cell_type": "markdown",
      "id": "98a39045-18d7-470d-8bae-99105a27c5d7",
      "metadata": {
        "id": "98a39045-18d7-470d-8bae-99105a27c5d7"
      },
      "source": [
        "### Plot results"
      ]
    },
    {
      "cell_type": "code",
      "execution_count": 48,
      "id": "fb7e927a-44e4-4504-b24f-dbf1cc501ecb",
      "metadata": {
        "id": "fb7e927a-44e4-4504-b24f-dbf1cc501ecb",
        "outputId": "5a65d7b9-4ebb-406c-906a-e44baa3aa9bd",
        "colab": {
          "base_uri": "https://localhost:8080/",
          "height": 430
        }
      },
      "outputs": [
        {
          "output_type": "display_data",
          "data": {
            "text/plain": [
              "<Figure size 640x480 with 1 Axes>"
            ],
            "image/png": "[encoded data removed]"
          },
          "metadata": {}
        }
      ],
      "source": [
        "plt.plot(train_loss,label='train_loss vs epoch')\n",
        "plt.plot(test_loss,label='test_loss vs epoch')\n",
        "plt.legend()\n",
        "plt.show()"
      ]
    }
  ],
  "metadata": {
    "kernelspec": {
      "display_name": "Python 3",
      "name": "python3"
    },
    "language_info": {
      "codemirror_mode": {
        "name": "ipython",
        "version": 3
      },
      "file_extension": ".py",
      "mimetype": "text/x-python",
      "name": "python",
      "nbconvert_exporter": "python",
      "pygments_lexer": "ipython3",
      "version": "3.8.10"
    },
    "colab": {
      "provenance": [],
      "gpuType": "T4"
    },
    "accelerator": "GPU"
  },
  "nbformat": 4,
  "nbformat_minor": 5
}